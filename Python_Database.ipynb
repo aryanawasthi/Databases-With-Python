{
 "cells": [
  {
   "cell_type": "code",
   "execution_count": 1,
   "id": "e735992d",
   "metadata": {},
   "outputs": [
    {
     "data": {
      "text/plain": [
       "<sqlite3.Cursor at 0x7f2868241c40>"
      ]
     },
     "execution_count": 1,
     "metadata": {},
     "output_type": "execute_result"
    }
   ],
   "source": [
    "import sqlite3\n",
    "connection=sqlite3.connect(\"movies.db\")\n",
    "cursor=connection.cursor()\n",
    "cursor.execute(\"\"\"CREATE TABLE IF NOT EXISTS movies (title text, director text, year int)\"\"\")"
   ]
  },
  {
   "cell_type": "code",
   "execution_count": 2,
   "id": "6c442b10",
   "metadata": {},
   "outputs": [
    {
     "data": {
      "text/plain": [
       "<sqlite3.Cursor at 0x7f2868241c40>"
      ]
     },
     "execution_count": 2,
     "metadata": {},
     "output_type": "execute_result"
    }
   ],
   "source": [
    "cursor.execute(\"\"\"insert into movies values (\"Taxi Driver\",\"John Snowman\",1989)\"\"\")"
   ]
  },
  {
   "cell_type": "code",
   "execution_count": 4,
   "id": "617a4eec",
   "metadata": {},
   "outputs": [
    {
     "data": {
      "text/plain": [
       "<sqlite3.Cursor at 0x7f2868241c40>"
      ]
     },
     "execution_count": 4,
     "metadata": {},
     "output_type": "execute_result"
    }
   ],
   "source": [
    "cursor.execute(\"select * from movies\")"
   ]
  },
  {
   "cell_type": "code",
   "execution_count": 5,
   "id": "542a180a",
   "metadata": {},
   "outputs": [
    {
     "data": {
      "text/plain": [
       "('Taxi Driver', 'John Snowman', 1989)"
      ]
     },
     "execution_count": 5,
     "metadata": {},
     "output_type": "execute_result"
    }
   ],
   "source": [
    "cursor.execute()"
   ]
  },
  {
   "cell_type": "code",
   "execution_count": 6,
   "id": "f138420c",
   "metadata": {},
   "outputs": [
    {
     "data": {
      "text/plain": [
       "<sqlite3.Cursor at 0x7f2868241c40>"
      ]
     },
     "execution_count": 6,
     "metadata": {},
     "output_type": "execute_result"
    }
   ],
   "source": [
    "cursor.execute(\"INSERT INTO Movies VALUES ('Taxi Driver', 'Martin Scorsese', 1976)\")"
   ]
  },
  {
   "cell_type": "code",
   "execution_count": 7,
   "id": "a67d1fea",
   "metadata": {},
   "outputs": [],
   "source": [
    "famousFilms = [('Pulp Fiction', 'Quentin Tarantino', 1994),\n",
    "('Back to the Future', 'Steven Spielberg', 1985),\n",
    "('Moonrise Kingdom', 'Wes Anderson', 2012)]"
   ]
  },
  {
   "cell_type": "code",
   "execution_count": 8,
   "id": "1c93ff54",
   "metadata": {},
   "outputs": [
    {
     "data": {
      "text/plain": [
       "<sqlite3.Cursor at 0x7f2868241c40>"
      ]
     },
     "execution_count": 8,
     "metadata": {},
     "output_type": "execute_result"
    }
   ],
   "source": [
    "cursor.executemany(\"\"\"insert into Movies values (?,?,?)\"\"\",famousFilms)"
   ]
  },
  {
   "cell_type": "code",
   "execution_count": 10,
   "id": "e3878361",
   "metadata": {},
   "outputs": [
    {
     "data": {
      "text/plain": [
       "<sqlite3.Cursor at 0x7f2868241c40>"
      ]
     },
     "execution_count": 10,
     "metadata": {},
     "output_type": "execute_result"
    }
   ],
   "source": [
    "cursor.execute(\"select * from Movies\")"
   ]
  },
  {
   "cell_type": "code",
   "execution_count": 11,
   "id": "8db82aa4",
   "metadata": {},
   "outputs": [
    {
     "data": {
      "text/plain": [
       "[('Taxi Driver', 'John Snowman', 1989),\n",
       " ('Taxi Driver', 'Martin Scorsese', 1976),\n",
       " ('Pulp Fiction', 'Quentin Tarantino', 1994),\n",
       " ('Back to the Future', 'Steven Spielberg', 1985),\n",
       " ('Moonrise Kingdom', 'Wes Anderson', 2012)]"
      ]
     },
     "execution_count": 11,
     "metadata": {},
     "output_type": "execute_result"
    }
   ],
   "source": [
    "cursor.fetchall()"
   ]
  },
  {
   "cell_type": "raw",
   "id": "61419ac9",
   "metadata": {},
   "source": []
  },
  {
   "cell_type": "code",
   "execution_count": 15,
   "id": "99c3d48e",
   "metadata": {},
   "outputs": [
    {
     "data": {
      "text/plain": [
       "<sqlite3.Cursor at 0x7f2868241c40>"
      ]
     },
     "execution_count": 15,
     "metadata": {},
     "output_type": "execute_result"
    }
   ],
   "source": [
    "release_year=(1989,)\n",
    "cursor.execute(\"\"\"select * from Movies where year<?\"\"\",release_year)"
   ]
  },
  {
   "cell_type": "code",
   "execution_count": 17,
   "id": "bb9445a6",
   "metadata": {},
   "outputs": [
    {
     "ename": "AttributeError",
     "evalue": "'sqlite3.Cursor' object has no attribute 'commit'",
     "output_type": "error",
     "traceback": [
      "\u001b[0;31m---------------------------------------------------------------------------\u001b[0m",
      "\u001b[0;31mAttributeError\u001b[0m                            Traceback (most recent call last)",
      "Cell \u001b[0;32mIn [17], line 1\u001b[0m\n\u001b[0;32m----> 1\u001b[0m \u001b[43mcursor\u001b[49m\u001b[38;5;241;43m.\u001b[39;49m\u001b[43mcommit\u001b[49m()\n",
      "\u001b[0;31mAttributeError\u001b[0m: 'sqlite3.Cursor' object has no attribute 'commit'"
     ]
    }
   ],
   "source": []
  },
  {
   "cell_type": "code",
   "execution_count": 18,
   "id": "e8821567",
   "metadata": {},
   "outputs": [],
   "source": [
    "connection.commit()\n",
    "connection.close()"
   ]
  },
  {
   "cell_type": "code",
   "execution_count": null,
   "id": "f0aff706",
   "metadata": {},
   "outputs": [],
   "source": []
  }
 ],
 "metadata": {
  "kernelspec": {
   "display_name": "Python 3 (ipykernel)",
   "language": "python",
   "name": "python3"
  },
  "language_info": {
   "codemirror_mode": {
    "name": "ipython",
    "version": 3
   },
   "file_extension": ".py",
   "mimetype": "text/x-python",
   "name": "python",
   "nbconvert_exporter": "python",
   "pygments_lexer": "ipython3",
   "version": "3.10.6"
  }
 },
 "nbformat": 4,
 "nbformat_minor": 5
}
